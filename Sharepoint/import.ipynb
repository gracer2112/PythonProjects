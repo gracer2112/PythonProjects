{
 "cells": [
  {
   "cell_type": "code",
   "execution_count": 10,
   "metadata": {},
   "outputs": [
    {
     "data": {
      "text/plain": [
       "['__builtins__',\n",
       " '__cached__',\n",
       " '__doc__',\n",
       " '__file__',\n",
       " '__loader__',\n",
       " '__name__',\n",
       " '__package__',\n",
       " '__path__',\n",
       " '__spec__',\n",
       " 'pages']"
      ]
     },
     "execution_count": 10,
     "metadata": {},
     "output_type": "execute_result"
    }
   ],
   "source": [
    "import office365.sharepoint \n",
    "dir(office365.sharepoint)"
   ]
  },
  {
   "cell_type": "code",
   "execution_count": 7,
   "metadata": {},
   "outputs": [
    {
     "name": "stdout",
     "output_type": "stream",
     "text": [
      "['__builtins__', '__cached__', '__doc__', '__file__', '__loader__', '__name__', '__package__', '__path__', '__spec__']\n"
     ]
    }
   ],
   "source": [
    "import office365.sharepoint.pages\n",
    "print(dir(office365.sharepoint.pages))"
   ]
  },
  {
   "cell_type": "code",
   "execution_count": 5,
   "metadata": {},
   "outputs": [
    {
     "name": "stdout",
     "output_type": "stream",
     "text": [
      "['__builtins__', '__cached__', '__doc__', '__file__', '__loader__', '__name__', '__package__', '__path__', '__spec__']\n"
     ]
    }
   ],
   "source": [
    "import office365.sharepoint\n",
    "print(dir(office365.sharepoint))\n",
    "\n",
    "# Tentar explorar submódulos\n",
    "submodules = [mod for mod in dir(office365.sharepoint) if not mod.startswith('__')]\n",
    "for submodule in submodules:\n",
    "    try:\n",
    "        mod = __import__(f'office365.sharepoint.{submodule}', fromlist=[submodule])\n",
    "        print(f'{submodule}:', dir(mod))\n",
    "    except ImportError as e:\n",
    "        print(f'Erro ao importar {submodule}:', e)"
   ]
  },
  {
   "cell_type": "code",
   "execution_count": 6,
   "metadata": {},
   "outputs": [],
   "source": [
    "import office365.sharepoint\n",
    "\n",
    "# Função para explorar submódulos recursivamente\n",
    "def explore_module(module, module_name):\n",
    "    submodules = [mod for mod in dir(module) if not mod.startswith('__')]\n",
    "    for submodule in submodules:\n",
    "        try:\n",
    "            mod = __import__(f'{module_name}.{submodule}', fromlist=[submodule])\n",
    "            print(f'{module_name}.{submodule}:', dir(mod))\n",
    "            explore_module(mod, f'{module_name}.{submodule}')\n",
    "        except ImportError as e:\n",
    "            print(f'Erro ao importar {module_name}.{submodule}:', e)\n",
    "\n",
    "# Explorar submódulos de office365.sharepoint\n",
    "explore_module(office365.sharepoint, 'office365.sharepoint')"
   ]
  }
 ],
 "metadata": {
  "kernelspec": {
   "display_name": "Python 3",
   "language": "python",
   "name": "python3"
  },
  "language_info": {
   "codemirror_mode": {
    "name": "ipython",
    "version": 3
   },
   "file_extension": ".py",
   "mimetype": "text/x-python",
   "name": "python",
   "nbconvert_exporter": "python",
   "pygments_lexer": "ipython3",
   "version": "3.11.9"
  }
 },
 "nbformat": 4,
 "nbformat_minor": 2
}
