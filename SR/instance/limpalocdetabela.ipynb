{
 "cells": [
  {
   "cell_type": "code",
   "execution_count": 18,
   "metadata": {},
   "outputs": [
    {
     "name": "stdout",
     "output_type": "stream",
     "text": [
      "Dados importados com sucesso!\n"
     ]
    }
   ],
   "source": [
    "import pandas as pd\n",
    "import sqlite3\n",
    "\n",
    "# Caminhos para os arquivos Excel\n",
    "caminho_funcionarios = r'C:\\Users\\erica.araujo\\OneDrive - 200DEV\\Documentos\\Integrada\\funcionarios.xlsx'\n",
    "caminho_superintendentes = r'C:\\Users\\erica.araujo\\OneDrive - 200DEV\\Documentos\\Integrada\\superintendentes.xlsx'\n",
    "\n",
    "# Ler os dados dos arquivos Excel\n",
    "df_funcionarios = pd.read_excel(caminho_funcionarios)\n",
    "df_superintendentes = pd.read_excel(caminho_superintendentes)\n",
    "\n",
    "# Conectar ao banco de dados SQLite\n",
    "conn = sqlite3.connect(r'C:\\Users\\erica.araujo\\OneDrive - 200DEV\\Documentos\\PythonProjects\\SR\\instance\\projetos.db', timeout=10)\n",
    "cursor = conn.cursor()\n",
    "\n",
    "try:\n",
    " # Inserir dados na tabela Superintendentes\n",
    "    for index, row in df_superintendentes.iterrows():\n",
    "        cursor.execute('''\n",
    "            INSERT OR IGNORE INTO Superintendentes (Superintendencia, NomeSuperintendente, EmailSuperintendente)\n",
    "            VALUES (?, ?, ?)\n",
    "        ''', (row['Superintendencia'], row['NomeSuperintendente'], row.get('EmailSuperintendente', '')))\n",
    "\n",
    "    # Inserir dados na tabela Funcionarios\n",
    "    for index, row in df_funcionarios.iterrows():\n",
    "        cursor.execute('''\n",
    "            INSERT INTO Funcionarios (IDSuperintendente, Nome, Cargo, Email)\n",
    "            VALUES (?, ?, ?, ?)\n",
    "        ''', (row['IDSuperintendente'], row['Nome'], row['Cargo'], row.get('Email', '')))\n",
    "\n",
    "    conn.commit()\n",
    "    conn.close()\n",
    "\n",
    "    print(\"Dados importados com sucesso!\")\n",
    "    \n",
    "except sqlite3.Error as e:\n",
    "    print(f\"Erro ao acessar o banco de dados: {e}\")\n",
    "finally:\n",
    "    conn.close()"
   ]
  },
  {
   "cell_type": "code",
   "execution_count": 15,
   "metadata": {},
   "outputs": [
    {
     "name": "stdout",
     "output_type": "stream",
     "text": [
      "Conexão fechada com sucesso.\n",
      "O arquivo C:\\Users\\erica.araujo\\OneDrive - 200DEV\\Documentos\\PythonProjects\\SR\\instance\\projetos.db-journal não existe.\n"
     ]
    }
   ],
   "source": [
    "import os\n",
    "import sqlite3\n",
    "\n",
    "# Caminho para o banco de dados\n",
    "caminho_banco_dados = r'C:\\Users\\erica.araujo\\OneDrive - 200DEV\\Documentos\\PythonProjects\\SR\\instance\\projetos.db'\n",
    "caminho_journal = caminho_banco_dados + '-journal'\n",
    "\n",
    "# Fechar todas as conexões ao banco de dados\n",
    "def fechar_conexoes(caminho_banco_dados):\n",
    "    try:\n",
    "        conn = sqlite3.connect(caminho_banco_dados)\n",
    "        conn.close()\n",
    "        print(\"Conexão fechada com sucesso.\")\n",
    "    except sqlite3.Error as e:\n",
    "        print(f\"Erro ao fechar a conexão: {e}\")\n",
    "\n",
    "# Excluir o arquivo journal\n",
    "def excluir_journal(caminho_journal):\n",
    "    if os.path.exists(caminho_journal):\n",
    "        try:\n",
    "            os.remove(caminho_journal)\n",
    "            print(f\"Arquivo {caminho_journal} excluído com sucesso.\")\n",
    "        except OSError as e:\n",
    "            print(f\"Erro ao excluir o arquivo {caminho_journal}: {e}\")\n",
    "    else:\n",
    "        print(f\"O arquivo {caminho_journal} não existe.\")\n",
    "\n",
    "# Fechar conexões e excluir o arquivo journal\n",
    "fechar_conexoes(caminho_banco_dados)\n",
    "excluir_journal(caminho_journal)"
   ]
  }
 ],
 "metadata": {
  "kernelspec": {
   "display_name": "Python 3",
   "language": "python",
   "name": "python3"
  },
  "language_info": {
   "codemirror_mode": {
    "name": "ipython",
    "version": 3
   },
   "file_extension": ".py",
   "mimetype": "text/x-python",
   "name": "python",
   "nbconvert_exporter": "python",
   "pygments_lexer": "ipython3",
   "version": "3.11.9"
  }
 },
 "nbformat": 4,
 "nbformat_minor": 2
}
