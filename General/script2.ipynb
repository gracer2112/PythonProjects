{
 "cells": [
  {
   "cell_type": "code",
   "execution_count": 2,
   "metadata": {},
   "outputs": [],
   "source": [
    "import openpyxl\n",
    "from openpyxl.styles import Font\n",
    "\n",
    "def substituir_asteriscos_por_negrito(arquivo_entrada, arquivo_saida):\n",
    "    # Carregar o arquivo Excel\n",
    "    wb = openpyxl.load_workbook(arquivo_entrada)\n",
    "    \n",
    "    # Loop através de cada planilha no workbook\n",
    "    for ws in wb.worksheets:\n",
    "        # Loop através de cada célula na planilha\n",
    "        for row in ws.iter_rows():\n",
    "            for cell in row:\n",
    "                if cell.value and '**' in cell.value:\n",
    "                    texto = cell.value\n",
    "                    partes = texto.split('**')\n",
    "                    novo_texto = ''\n",
    "                    negrito = False\n",
    "\n",
    "                    for i, parte in enumerate(partes):\n",
    "                        if negrito:\n",
    "                            # Aplicar negrito\n",
    "                            cell.font = Font(bold=True)\n",
    "                            novo_texto += parte\n",
    "                        else:\n",
    "                            novo_texto += parte\n",
    "                        negrito = not negrito\n",
    "\n",
    "                    cell.value = novo_texto\n",
    "\n",
    "    # Salvar o arquivo Excel\n",
    "    wb.save(arquivo_saida)\n",
    "\n",
    "# Chamar a função com o caminho do arquivo Excel\n",
    "arquivo_entrada = r'C:\\Users\\erica.araujo\\OneDrive - 200DEV\\Documentos\\Integrada\\RACI.xlsx'\n",
    "arquivo_saida = r'C:\\Users\\erica.araujo\\OneDrive - 200DEV\\Documentos\\Integrada\\RACI1.xlsx'\n",
    "substituir_asteriscos_por_negrito(arquivo_entrada, arquivo_saida)"
   ]
  }
 ],
 "metadata": {
  "kernelspec": {
   "display_name": "Python 3",
   "language": "python",
   "name": "python3"
  },
  "language_info": {
   "codemirror_mode": {
    "name": "ipython",
    "version": 3
   },
   "file_extension": ".py",
   "mimetype": "text/x-python",
   "name": "python",
   "nbconvert_exporter": "python",
   "pygments_lexer": "ipython3",
   "version": "3.11.9"
  }
 },
 "nbformat": 4,
 "nbformat_minor": 2
}
